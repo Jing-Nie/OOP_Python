{
 "cells": [
  {
   "cell_type": "code",
   "execution_count": 1,
   "metadata": {},
   "outputs": [
    {
     "name": "stdout",
     "output_type": "stream",
     "text": [
      "{'h': 1, 'e': 1, 'l': 3, 'o': 2, ',': 1, 'w': 1, 'r': 1, 'd': 1}\n"
     ]
    }
   ],
   "source": [
    "count={}\n",
    "for ch in 'hello,world':\n",
    "    if count.get(ch)==None:\n",
    "        count[ch]=1\n",
    "    else:\n",
    "        count[ch]+=1\n",
    "print(count)"
   ]
  },
  {
   "cell_type": "code",
   "execution_count": 2,
   "metadata": {},
   "outputs": [
    {
     "name": "stdout",
     "output_type": "stream",
     "text": [
      "{'h': 1, 'e': 1, 'l': 3, 'o': 2, ',': 1, 'w': 1, 'r': 1, 'd': 1}\n"
     ]
    }
   ],
   "source": [
    "count={}\n",
    "for ch in 'hello,world':\n",
    "    count.setdefault(ch,0) # 如果键不存在于字典中，将会添加键并将值设为默认值\n",
    "    count[ch]+=1\n",
    "print(count)"
   ]
  },
  {
   "cell_type": "code",
   "execution_count": 3,
   "metadata": {},
   "outputs": [],
   "source": [
    "text='''New environments for learning\n",
    "We are now in what has been described as the fourth phase in the evolution of buildings for tertiary education. The earliest was the inception of universities, communities of scholars integrated into the urban fabric in centres such as Oxford, Cambridge, St Andrews, Glasgow, Aberdeen and Edinburgh. Redbrick universities of the nineteenth century were the second phase. The third was the post-war creation of campus environments. Now is the era of expanded access to education, lifelong learning and pedagogical changes from a teaching-based culture to a student centred learning environment for student ‘consumers’ who take a far more pro-active role in shaping their education than earlier generations9. It is also the era when real and virtual learning spaces coexist. New environments for learning are being designed or reshaped in response to changing pedagogical styles, to incorporate new information technology, and to allow for changing numbers and abilities of learners.\n",
    "Formal teaching spaces for large groups with a ‘sage on a stage’ are becoming less common than smaller, less formal settings where students learn from one another as well as from their appointed teachers. New buildings are not essential for the creation of new learning environments. Radical learning approaches can also be carried out in intelligently refurbished academic or other urban buildings. Many new models of spaces for learning have emerged over the last few years. Important examples are described and illustrated below, drawn from the four Scottish case studies examined for this project (appendix 6), examples from elsewhere in the UK, and innovations in other countries. Some take a fresh and radical approach to educational building design. However, most are variants on known space types enhanced by the introduction of new technology and flexible furniture for different learning modes. We have classified learning spaces into seven spatial types: group teaching/learning; simulated environments; immersive environments; peer-to-peer and social learning; clusters; individual learning; and external spaces. Important concepts for each type are described below, and implications for their size and form, technology and furniture are drawn out.\n",
    "\n",
    "1.1 Group teaching/learning spaces\n",
    "Lecture rooms and classrooms form a large component of the estate in further and higher education institutions, and will continue to dominate in the future. However the traditional format of these spaces is being transformed to incorporate multiple learning modes. The role of academic teachers is gradually moving from that of ‘sage on the stage’ to ‘guide by the side’, while the student is combining the role of quietly reflective absorber of ideas with that of active participant. \n",
    "\n",
    "Technology\n",
    "These spaces often incorporate:\n",
    "– Technology for more active learning modes, such as personal response systems (PRS) that allow learners to vote on questions posed by presenters and everyone to see the results.\n",
    "– Installation of one or more computer projectors, large projection screens or interactive white boards on more than one wall surface.\n",
    "– Infrastructure for wireless broadband or mobile telephony to allow individual access to the internet via personal computers or handheld devices.\n",
    "– Installation of cameras to film the proceedings so they can later be viewed by learners at their own time and pace.\n",
    "– Installation of equipment for real-time transmission of information from elsewhere. \n",
    "\n",
    "1.2 Simulated environments\n",
    "Active modes, learning by doing, take place in simulated environments where learners can be taught safely and prepared for ‘real world’ environments. Disciplines such as nursing and health, which were formerly learnt on the job through an apprenticeship system, are increasingly being taught first in an academic environment. This has created a demand for more simulated environments in colleges and universities. \n",
    "Examples include:\n",
    "– skills laboratories for nursing and medical health sciences that emulate hospital and home care environments. Some make use of patient robots programmed to signal their ailments and to complain if they are poorly handled by learners. Recent clinical skills classrooms include the Health and Wellbeing Centre at Sheffield Hallam and the University of New Mexico.\n",
    "– classrooms for training student schoolteachers;\n",
    "– office environments for teaching receptionist and secretarial skills;\n",
    "– hairdressing and beauty salons;\n",
    "– catering kitchens and restaurant for teaching skills to people wanting to work in the hospitality and catering industries;\n",
    "– workshops for teaching mechanical skills (eg car repairs).\n",
    "Significant issues in new simulated learning environments are:\n",
    "\n",
    "Technology\n",
    "– Every one of the above examples requires wireless broadband, fixed computers, and/or increasing amounts of technology for the facilitator/demonstrator to use. Data cabling, computer projectors and screen, and/or smart boards are needed, for example, in primary school classrooms.\n",
    "– In some simulated environments, video cameras are required to record how students perform, so they can be debriefed on their level of competence. Cameras demand special attention to heights, angles of vision and lighting. In some instances they also need a workstation and storage area for a media technician to control and manage the film.\n",
    "\n",
    "Furniture\n",
    "– Mobile or stacking furniture is a great advantage in these spaces to allow multiple room use. However, much of this type of furniture is bulky or heavy, which discourages rearrangement.\n",
    "– Simulated primary classrooms need to balance the requirement of providing seats sized for small children against the fact that they will be used mainly by adult learners.\n",
    "\n",
    "1.3 Immersive environments\n",
    "Immersive environments are those where virtual representations play an important role in drawing learners into contact with complex information. The information may come in real time from another location, or from prepared sources. They are analogous to television newsrooms, IMAX cinemas, large entertainment venues with huge screens showing parallel events and ‘HIVES’ (highly interactive virtual environments) used by the petrochemical and mining industries. Typical immersive environments in education are relatively small spaces for ten to twenty people, with several large, possibly curved, screens for projecting information so that occupants are literally surrounded by the data. In some cases the viewer can interact with the projected information. Three-dimensional simulations are sometimes included. A ‘pilot’ workstation for a skilled computer technician to control the data streams is normally needed. Examples in education are rare because of the high cost of the infrastructure. The Stanford Center for Innovations in Learning, SCIL, is creating an international network of small, immersive environments, ‘iSpaces’, for collaborative, project-driven learning and working. The goal of iSpace, collaboration between Stanford University and KTH Stockholm, is to design and implement the infrastructure that will allow multiple groups to use iSpaces over sustained periods of time. Other examples come from North American medical courses and Texas Tech University.\n",
    "1.4 Peer-to-peer and social learning spaces（同伴学习与社会学习空间）\n",
    "Spaces that facilitate peer-to-peer learning, and the positive effect of being in a learning group that is part of a learning community, are of growing importance in many colleges and universities. Seminar rooms have traditionally contained the ‘group conversation’ form of learning. They are being overtaken by more informal gathering places for social learning, ‘a physical relaxation of the academic ‘institution’ … with a ‘soft’ zone of informal area for sitting, informal teaching and flexible seminar spaces…’ \n",
    "These spaces often incorporate:\n",
    "– Computer commons, cyber cafés or Internet cafés, that provides computer access to the Internet with or without refreshments. Examples include the University of Paisley’s Internet café, Strathclyde University’s Java Café; the Real Learning Café at Glasgow Caledonian University.\n",
    "– Group rooms in libraries and learning resource centres designed for collaborative working and talking, rather than the traditional library silence for solo work.\n",
    "– Studio learning for art and design courses, where learners work individually or in teams in an environment that encourages comment and discussion about each person’s work.\n",
    "– Shared-access computer rooms in residential halls, to alleviate the digital divide by providing computers in rooms where discussion is allowed.\n",
    "– The University of Queensland completed the Collaborative Learning Centre in the Sir James Foot Building in May 2005. Similar in concept to the Saltire Centre at Glasgow Caledonian University, it is used for scheduled classes, informally by students and as a conference and workshop venue for external organisations. It contains a café and has extended the learning environment into the adjacent courtyard. Evaluations of the new facility are being actively sought.\n",
    "\n",
    "Technology\n",
    "– The need for the institution to provide large numbers of computers will eventually diminish as technology prices continue to drop, all students have been exposed to computing from early childhood education, and access to information is pervasive.\n",
    "– The need for computer-equipped social learning spaces is of growing importance in the FE sector where computer ownership tends to be lower than in HE.\n",
    "– The sophistication of hardware and software needs to be higher so as to exceed that of individually owned computers. \n",
    "\n",
    "1.5 Learning clusters\n",
    "Learning clusters are groups of learning spaces designed for different learning modes. Learning clusters have come into being since research highlighted the benefits of using multiple learning modes to reinforce understanding. They also help cope with the fact that a different number of learners register for each course. Traditional clusters include large group learning spaces and small seminar (or ‘syndicate’) rooms. Newer clusters incorporate interactive and group learning spaces, social learning spaces as well as more traditional lecture halls or classrooms, albeit with enhanced technology. \n",
    "\n",
    "The characteristics of learning clusters can include:\n",
    "– Within one large single space, some interesting areas have been created for multiple learning modes to be used simultaneously.\n",
    "– The ability to teach several groups simultaneously using different learning modes is accommodated in rooms such as the ‘teaching pods’ in Wolverhampton University. Acknowledging that students of today multi-task and are able to concentrate in environments that have multiple stimuli, they have created a space designed with a small area of fixed seating in tiers, and another area with grouped desks equipped with PCs for solo work.\n",
    "– Open learning environments on a vast scale have been created recently. South East Essex College’s vast new building integrates social spaces with a series of flexible 500m2 teaching modules that can be linked and subdivided with moveable partition walls in numerous combinations to support changing curriculum needs.\n",
    "– Stow College has created the SuperFlex and Engineering Technology Centre which has 100 networked PCs used for ICT based learning activities for individuals or groups. Groups of up to twenty people can be taught together from one mobile control-teaching unit.\n",
    "– The University of Strathclyde has excelled in promoting learning clusters in several buildings (see case study).\n",
    "– In Glasgow University, the Gibson Street church has been restored to create a learning cluster comprising a lecture theatre and small groups spaces with moveable walls, fully equipped with interactive whiteboards.\n",
    "– Similarly, the Cottrell Building at Stirling University includes a 100-seat lecture theatre, two forty-person rooms with demountable walls, and a breakout space, all enhanced with excellent new audio-visual facilities.\n",
    "– West Lothian College has established the ‘hub’, a teaching environment to encourage students to feel at ease and stimulated in returning to formal learning. It is a colourful, flexible space with fixed and mobile elements that can be reconfigured rapidly.\n",
    "– Further away, Singapore Polytechnic is creating a large campus based on the concept of identical ‘learning pods’ for groups of fifty students to work together in teams, in large groups with a lecturer, or solo.20\n",
    "\n",
    "1.6 Individual learning spaces\n",
    "Effective learning usually involves time in active, solo study and writing or creation mode. The spaces in which this occurs are typically in library areas, computer rooms and study bedrooms. Some people are capable of concentrating in many other environments, but they are the exception. The main changes to these traditional spaces are the introduction of more computing technology (or mobile telephony serving the same purpose), and attention  to better ergonomic and environmental conditions.\n",
    "– At Perth College wireless laptops are available for use in the library and the core teaching space, enhancing flexibility of use with or without technology.\n",
    "– In some instances such as Cox Hall, Emory University, large floor cushions and monitors at floor sitting level have been provided in deference to the preferred position adopted by some students.\n",
    "– Good lighting and adjustable chairs are the most important elements together with quiet acoustics and indoor air quality. Power and data are essential for most spaces, although much of the time books and paper may also be used.\n",
    "– Multimedia equipment for video and music viewing or output is in growing demand. High quality printers are sometimes required. In studio and workshop environments, many different forms of output may be used.\n",
    "\n",
    "1.7 External spaces\n",
    "External spaces, especially space between buildings, can play an important role in aiding learning. Fresh air helps in keeping people alert and therefore more able to learn, though the amount of time that people can use external spaces for learning is naturally limited by climatic and weather conditions. Wireless broadband supplies information to these spaces in a manner that was formerly impossible. In the UK, little teaching and learning takes place at all during the more benign summer months. External spaces in colleges and universities are mostly used informally by individuals for reflective learning and by small groups. Examples from milder climates, such as external amphitheatres for lectures and performances, are unlikely to be appropriate. However, some spaces for occasional group learning can be formed through sensitive micro-climatic design of sheltered courtyards and gardens. MIT in Cambridge, Massachusetts has managed to incorporate an external amphitheatre and a high level open plaza, as part of the 2004 Stata Center, designed by Frank Gehry, for computer science, artificial intelligence and philosophy teaching.\n",
    "'''"
   ]
  },
  {
   "cell_type": "code",
   "execution_count": 5,
   "metadata": {},
   "outputs": [
    {
     "name": "stdout",
     "output_type": "stream",
     "text": [
      "{'N': 7, 'e': 1535, 'w': 142, ' ': 2183, 'n': 1015, 'v': 155, 'i': 928, 'r': 889, 'o': 885, 'm': 342, 't': 942, 's': 805, 'f': 251, 'l': 595, 'a': 1009, 'g': 290, '\\n': 73, 'W': 7, 'h': 399, 'b': 143, 'd': 413, 'c': 462, 'u': 314, 'p': 282, 'y': 149, '.': 108, 'T': 34, ',': 99, 'O': 3, 'x': 43, 'C': 25, 'S': 35, 'A': 8, 'G': 10, 'E': 18, 'R': 5, 'k': 43, '-': 20, '‘': 16, '’': 20, '9': 1, 'I': 28, 'F': 8, 'M': 8, 'j': 10, '(': 7, '6': 2, ')': 7, 'U': 15, 'K': 3, 'H': 11, ':': 6, '/': 5, ';': 11, 'z': 4, '1': 10, 'L': 9, 'q': 14, '–': 36, 'P': 8, '2': 5, 'D': 2, '3': 1, 'X': 1, 'V': 1, '4': 2, '（': 1, '同': 1, '伴': 1, '学': 2, '习': 2, '与': 1, '社': 1, '会': 1, '空': 1, '间': 1, '）': 1, '…': 2, 'é': 6, 'J': 2, 'Q': 1, 'B': 2, '0': 11, '5': 3, '7': 1}\n"
     ]
    }
   ],
   "source": [
    "count={}\n",
    "for word in text:\n",
    "    count.setdefault(word,0)\n",
    "    count[word]+=1\n",
    "print(count)"
   ]
  },
  {
   "cell_type": "code",
   "execution_count": 6,
   "metadata": {},
   "outputs": [
    {
     "name": "stdout",
     "output_type": "stream",
     "text": [
      "{'new': 12, 'environments': 12, 'for': 55, 'learning': 46, 'we': 2, 'are': 33, 'now': 2, 'in': 63, 'what': 1, 'has': 9, 'been': 6, 'described': 3, 'as': 15, 'the': 92, 'fourth': 1, 'phase': 1, 'evolution': 1, 'of': 67, 'buildings': 3, 'tertiary': 1, 'education.': 1, 'earliest': 1, 'was': 3, 'inception': 1, 'universities,': 1, 'communities': 1, 'scholars': 1, 'integrated': 1, 'into': 5, 'urban': 2, 'fabric': 1, 'centres': 2, 'such': 6, 'oxford,': 1, 'cambridge,': 2, 'st': 1, 'andrews,': 1, 'glasgow,': 1, 'aberdeen': 1, 'and': 85, 'edinburgh.': 1, 'redbrick': 1, 'universities': 2, 'nineteenth': 1, 'century': 1, 'were': 2, 'second': 1, 'phase.': 1, 'third': 1, 'post-war': 1, 'creation': 3, 'campus': 2, 'environments.': 4, 'is': 20, 'era': 2, 'expanded': 1, 'access': 4, 'to': 57, 'education,': 2, 'lifelong': 1, 'pedagogical': 2, 'changes': 2, 'from': 13, 'a': 33, 'teaching-based': 1, 'culture': 1, 'student': 4, 'centred': 1, 'environment': 4, '‘consumers’': 1, 'who': 1, 'take': 3, 'far': 1, 'more': 10, 'pro-active': 1, 'role': 5, 'shaping': 1, 'their': 6, 'education': 4, 'than': 5, 'earlier': 1, 'generations9.': 1, 'it': 4, 'also': 5, 'when': 1, 'real': 3, 'virtual': 3, 'spaces': 25, 'coexist.': 1, 'being': 7, 'designed': 5, 'or': 18, 'reshaped': 1, 'response': 2, 'changing': 3, 'styles,': 1, 'incorporate': 4, 'information': 6, 'technology,': 1, 'allow': 5, 'numbers': 2, 'abilities': 1, 'learners.': 3, 'formal': 3, 'teaching': 9, 'large': 10, 'groups': 8, 'with': 23, '‘sage': 2, 'on': 9, 'stage’': 2, 'becoming': 1, 'less': 2, 'common': 1, 'smaller,': 1, 'settings': 1, 'where': 6, 'students': 7, 'learn': 1, 'one': 6, 'another': 3, 'well': 2, 'appointed': 1, 'teachers.': 1, 'not': 1, 'essential': 2, 'radical': 2, 'approaches': 1, 'can': 12, 'be': 15, 'carried': 1, 'out': 1, 'intelligently': 1, 'refurbished': 1, 'academic': 4, 'other': 4, 'buildings.': 1, 'many': 4, 'models': 1, 'have': 10, 'emerged': 1, 'over': 2, 'last': 1, 'few': 1, 'years.': 1, 'important': 5, 'examples': 8, 'illustrated': 1, 'below,': 2, 'drawn': 2, 'four': 1, 'scottish': 1, 'case': 2, 'studies': 1, 'examined': 1, 'this': 4, 'project': 1, '(appendix': 1, '6),': 1, 'elsewhere': 1, 'uk,': 2, 'innovations': 2, 'countries.': 1, 'some': 10, 'fresh': 2, 'approach': 1, 'educational': 1, 'building': 4, 'design.': 1, 'however,': 3, 'most': 3, 'variants': 1, 'known': 1, 'space': 4, 'types': 1, 'enhanced': 3, 'by': 17, 'introduction': 2, 'technology': 10, 'flexible': 4, 'furniture': 5, 'different': 5, 'modes.': 3, 'classified': 1, 'seven': 1, 'spatial': 1, 'types:': 1, 'group': 7, 'teaching/learning;': 1, 'simulated': 7, 'environments;': 2, 'immersive': 5, 'peer-to-peer': 3, 'social': 6, 'learning;': 2, 'clusters;': 1, 'individual': 3, 'external': 8, 'spaces.': 1, 'concepts': 1, 'each': 3, 'type': 2, 'implications': 1, 'size': 1, 'form,': 1, 'out.': 1, '': 19, '1.1': 1, 'teaching/learning': 1, 'lecture': 4, 'rooms': 8, 'classrooms': 4, 'form': 2, 'component': 1, 'estate': 1, 'further': 2, 'higher': 2, 'institutions,': 1, 'will': 4, 'continue': 2, 'dominate': 1, 'future.': 1, 'however': 1, 'traditional': 5, 'format': 1, 'these': 6, 'transformed': 1, 'multiple': 6, 'teachers': 1, 'gradually': 1, 'moving': 1, 'that': 19, '‘guide': 1, 'side’,': 1, 'while': 1, 'combining': 1, 'quietly': 1, 'reflective': 2, 'absorber': 1, 'ideas': 1, 'active': 3, 'participant.': 1, 'often': 2, 'incorporate:': 2, '–': 36, 'modes,': 2, 'personal': 2, 'systems': 1, '(prs)': 1, 'learners': 6, 'vote': 1, 'questions': 1, 'posed': 1, 'presenters': 1, 'everyone': 1, 'see': 1, 'results.': 1, 'installation': 3, 'computer': 9, 'projectors,': 1, 'projection': 1, 'screens': 3, 'interactive': 4, 'white': 1, 'boards': 2, 'wall': 1, 'surface.': 1, 'infrastructure': 2, 'wireless': 4, 'broadband': 2, 'mobile': 5, 'telephony': 2, 'internet': 4, 'via': 1, 'computers': 3, 'handheld': 1, 'devices.': 1, 'cameras': 3, 'film': 1, 'proceedings': 1, 'so': 4, 'they': 10, 'later': 1, 'viewed': 1, 'at': 9, 'own': 1, 'time': 5, 'pace.': 1, 'equipment': 2, 'real-time': 1, 'transmission': 1, 'elsewhere.': 1, '1.2': 1, 'doing,': 1, 'place': 2, 'taught': 3, 'safely': 1, 'prepared': 2, '‘real': 1, 'world’': 1, 'disciplines': 1, 'nursing': 2, 'health,': 1, 'which': 4, 'formerly': 2, 'learnt': 1, 'job': 1, 'through': 2, 'an': 7, 'apprenticeship': 1, 'system,': 1, 'increasingly': 1, 'first': 1, 'environment.': 1, 'created': 5, 'demand': 2, 'colleges': 3, 'universities.': 2, 'include:': 2, 'skills': 4, 'laboratories': 1, 'medical': 2, 'health': 2, 'sciences': 1, 'emulate': 1, 'hospital': 1, 'home': 1, 'care': 1, 'make': 1, 'use': 5, 'patient': 1, 'robots': 1, 'programmed': 1, 'signal': 1, 'ailments': 1, 'complain': 1, 'if': 1, 'poorly': 1, 'handled': 1, 'recent': 1, 'clinical': 1, 'include': 3, 'wellbeing': 1, 'centre': 4, 'sheffield': 1, 'hallam': 1, 'university': 6, 'mexico.': 1, 'training': 1, 'schoolteachers;': 1, 'office': 1, 'receptionist': 1, 'secretarial': 1, 'skills;': 1, 'hairdressing': 1, 'beauty': 1, 'salons;': 1, 'catering': 2, 'kitchens': 1, 'restaurant': 1, 'people': 5, 'wanting': 1, 'work': 3, 'hospitality': 1, 'industries;': 1, 'workshops': 1, 'mechanical': 1, '(eg': 1, 'car': 1, 'repairs).': 1, 'significant': 1, 'issues': 1, 'are:': 1, 'every': 1, 'above': 1, 'requires': 1, 'broadband,': 1, 'fixed': 3, 'computers,': 1, 'and/or': 2, 'increasing': 1, 'amounts': 1, 'facilitator/demonstrator': 1, 'use.': 2, 'data': 3, 'cabling,': 1, 'projectors': 1, 'screen,': 1, 'smart': 1, 'needed,': 1, 'example,': 1, 'primary': 2, 'school': 1, 'classrooms.': 1, 'environments,': 4, 'video': 2, 'required': 1, 'record': 1, 'how': 1, 'perform,': 1, 'debriefed': 1, 'level': 3, 'competence.': 1, 'special': 1, 'attention': 2, 'heights,': 1, 'angles': 1, 'vision': 1, 'lighting.': 1, 'instances': 2, 'need': 4, 'workstation': 2, 'storage': 1, 'area': 4, 'media': 1, 'technician': 2, 'control': 2, 'manage': 1, 'film.': 1, 'stacking': 1, 'great': 1, 'advantage': 1, 'room': 1, 'much': 2, 'bulky': 1, 'heavy,': 1, 'discourages': 1, 'rearrangement.': 1, 'balance': 1, 'requirement': 1, 'providing': 2, 'seats': 1, 'sized': 1, 'small': 6, 'children': 1, 'against': 1, 'fact': 2, 'used': 6, 'mainly': 1, 'adult': 1, '1.3': 1, 'those': 1, 'representations': 1, 'play': 2, 'drawing': 1, 'contact': 1, 'complex': 1, 'information.': 2, 'may': 4, 'come': 3, 'location,': 1, 'sources.': 1, 'analogous': 1, 'television': 1, 'newsrooms,': 1, 'imax': 1, 'cinemas,': 1, 'entertainment': 1, 'venues': 1, 'huge': 1, 'showing': 1, 'parallel': 1, 'events': 1, '‘hives’': 1, '(highly': 1, 'environments)': 1, 'petrochemical': 1, 'mining': 1, 'industries.': 1, 'typical': 1, 'relatively': 1, 'ten': 1, 'twenty': 2, 'people,': 1, 'several': 3, 'large,': 1, 'possibly': 1, 'curved,': 1, 'projecting': 1, 'occupants': 1, 'literally': 1, 'surrounded': 1, 'data.': 1, 'cases': 1, 'viewer': 1, 'interact': 1, 'projected': 1, 'three-dimensional': 1, 'simulations': 1, 'sometimes': 2, 'included.': 1, '‘pilot’': 1, 'skilled': 1, 'streams': 1, 'normally': 1, 'needed.': 1, 'rare': 1, 'because': 1, 'high': 3, 'cost': 1, 'infrastructure.': 1, 'stanford': 2, 'center': 1, 'learning,': 3, 'scil,': 1, 'creating': 2, 'international': 1, 'network': 1, 'small,': 1, '‘ispaces’,': 1, 'collaborative,': 1, 'project-driven': 1, 'working.': 1, 'goal': 1, 'ispace,': 1, 'collaboration': 1, 'between': 2, 'kth': 1, 'stockholm,': 1, 'design': 3, 'implement': 1, 'ispaces': 1, 'sustained': 1, 'periods': 1, 'time.': 1, 'north': 1, 'american': 1, 'courses': 1, 'texas': 1, 'tech': 1, 'university.': 3, '1.4': 1, 'spaces（同伴学习与社会学习空间）': 1, 'facilitate': 1, 'positive': 1, 'effect': 1, 'part': 2, 'community,': 1, 'growing': 3, 'importance': 2, 'seminar': 3, 'traditionally': 1, 'contained': 1, '‘group': 1, 'conversation’': 1, 'learning.': 3, 'overtaken': 1, 'informal': 3, 'gathering': 1, 'places': 1, '‘a': 1, 'physical': 1, 'relaxation': 1, '‘institution’': 1, '…': 1, '‘soft’': 1, 'zone': 1, 'sitting,': 1, 'spaces…’': 1, 'commons,': 1, 'cyber': 1, 'cafés': 1, 'cafés,': 1, 'provides': 1, 'without': 2, 'refreshments.': 1, 'paisley’s': 1, 'café,': 1, 'strathclyde': 2, 'university’s': 1, 'java': 1, 'café;': 1, 'café': 2, 'glasgow': 3, 'caledonian': 2, 'libraries': 1, 'resource': 1, 'collaborative': 2, 'working': 1, 'talking,': 1, 'rather': 1, 'library': 3, 'silence': 1, 'solo': 3, 'work.': 3, 'studio': 2, 'art': 1, 'courses,': 1, 'individually': 2, 'teams': 1, 'encourages': 1, 'comment': 1, 'discussion': 2, 'about': 1, 'person’s': 1, 'shared-access': 1, 'residential': 1, 'halls,': 1, 'alleviate': 1, 'digital': 1, 'divide': 1, 'allowed.': 1, 'queensland': 1, 'completed': 1, 'sir': 1, 'james': 1, 'foot': 1, '2005.': 1, 'similar': 1, 'concept': 2, 'saltire': 1, 'university,': 3, 'scheduled': 1, 'classes,': 1, 'informally': 2, 'conference': 1, 'workshop': 2, 'venue': 1, 'organisations.': 1, 'contains': 1, 'extended': 1, 'adjacent': 1, 'courtyard.': 1, 'evaluations': 1, 'facility': 1, 'actively': 1, 'sought.': 1, 'institution': 1, 'provide': 1, 'eventually': 1, 'diminish': 1, 'prices': 1, 'drop,': 1, 'all': 3, 'exposed': 1, 'computing': 2, 'early': 1, 'childhood': 1, 'pervasive.': 1, 'computer-equipped': 1, 'fe': 1, 'sector': 1, 'ownership': 1, 'tends': 1, 'lower': 1, 'he.': 1, 'sophistication': 1, 'hardware': 1, 'software': 1, 'needs': 1, 'exceed': 1, 'owned': 1, 'computers.': 1, '1.5': 1, 'clusters': 7, 'since': 1, 'research': 1, 'highlighted': 1, 'benefits': 1, 'using': 2, 'modes': 3, 'reinforce': 1, 'understanding.': 1, 'help': 1, 'cope': 1, 'number': 1, 'register': 1, 'course.': 1, '(or': 2, '‘syndicate’)': 1, 'rooms.': 1, 'newer': 1, 'spaces,': 3, 'halls': 1, 'classrooms,': 1, 'albeit': 1, 'technology.': 2, 'characteristics': 1, 'within': 1, 'single': 1, 'space,': 3, 'interesting': 1, 'areas': 1, 'simultaneously.': 1, 'ability': 1, 'teach': 1, 'simultaneously': 1, 'accommodated': 1, '‘teaching': 1, 'pods’': 2, 'wolverhampton': 1, 'acknowledging': 1, 'today': 1, 'multi-task': 1, 'able': 2, 'concentrate': 1, 'stimuli,': 1, 'seating': 1, 'tiers,': 1, 'grouped': 1, 'desks': 1, 'equipped': 2, 'pcs': 2, 'open': 2, 'vast': 2, 'scale': 1, 'recently.': 1, 'south': 1, 'east': 1, 'essex': 1, 'college’s': 1, 'integrates': 1, 'series': 1, '500m2': 1, 'modules': 1, 'linked': 1, 'subdivided': 1, 'moveable': 2, 'partition': 1, 'walls': 1, 'numerous': 1, 'combinations': 1, 'support': 1, 'curriculum': 1, 'needs.': 1, 'stow': 1, 'college': 3, 'superflex': 1, 'engineering': 1, '100': 1, 'networked': 1, 'ict': 1, 'based': 2, 'activities': 1, 'individuals': 2, 'groups.': 2, 'up': 1, 'together': 3, 'control-teaching': 1, 'unit.': 1, 'excelled': 1, 'promoting': 1, '(see': 1, 'study).': 1, 'gibson': 1, 'street': 1, 'church': 1, 'restored': 1, 'create': 1, 'cluster': 1, 'comprising': 1, 'theatre': 1, 'walls,': 2, 'fully': 1, 'whiteboards.': 1, 'similarly,': 1, 'cottrell': 1, 'stirling': 1, 'includes': 1, '100-seat': 1, 'theatre,': 1, 'two': 1, 'forty-person': 1, 'demountable': 1, 'breakout': 1, 'excellent': 1, 'audio-visual': 1, 'facilities.': 1, 'west': 1, 'lothian': 1, 'established': 1, '‘hub’,': 1, 'encourage': 1, 'feel': 1, 'ease': 1, 'stimulated': 1, 'returning': 1, 'colourful,': 1, 'elements': 2, 'reconfigured': 1, 'rapidly.': 1, 'away,': 1, 'singapore': 1, 'polytechnic': 1, 'identical': 1, '‘learning': 1, 'fifty': 1, 'teams,': 1, 'lecturer,': 1, 'solo.20': 1, '1.6': 1, 'effective': 1, 'usually': 1, 'involves': 1, 'active,': 1, 'study': 2, 'writing': 1, 'mode.': 1, 'occurs': 1, 'typically': 1, 'areas,': 1, 'bedrooms.': 1, 'capable': 1, 'concentrating': 1, 'but': 1, 'exception.': 1, 'main': 1, 'serving': 1, 'same': 1, 'purpose),': 1, 'better': 1, 'ergonomic': 1, 'environmental': 1, 'conditions.': 2, 'perth': 1, 'laptops': 1, 'available': 1, 'core': 1, 'enhancing': 1, 'flexibility': 1, 'cox': 1, 'hall,': 1, 'emory': 1, 'floor': 2, 'cushions': 1, 'monitors': 1, 'sitting': 1, 'provided': 1, 'deference': 1, 'preferred': 1, 'position': 1, 'adopted': 1, 'students.': 1, 'good': 1, 'lighting': 1, 'adjustable': 1, 'chairs': 1, 'quiet': 1, 'acoustics': 1, 'indoor': 1, 'air': 2, 'quality.': 1, 'power': 1, 'although': 1, 'books': 1, 'paper': 1, 'used.': 2, 'multimedia': 1, 'music': 1, 'viewing': 1, 'output': 2, 'demand.': 1, 'quality': 1, 'printers': 1, 'required.': 1, 'forms': 1, '1.7': 1, 'especially': 1, 'buildings,': 1, 'aiding': 1, 'helps': 1, 'keeping': 1, 'alert': 1, 'therefore': 1, 'learn,': 1, 'though': 1, 'amount': 1, 'naturally': 1, 'limited': 1, 'climatic': 1, 'weather': 1, 'supplies': 1, 'manner': 1, 'impossible.': 1, 'little': 1, 'takes': 1, 'during': 1, 'benign': 1, 'summer': 1, 'months.': 1, 'mostly': 1, 'milder': 1, 'climates,': 1, 'amphitheatres': 1, 'lectures': 1, 'performances,': 1, 'unlikely': 1, 'appropriate.': 1, 'occasional': 1, 'formed': 1, 'sensitive': 1, 'micro-climatic': 1, 'sheltered': 1, 'courtyards': 1, 'gardens.': 1, 'mit': 1, 'massachusetts': 1, 'managed': 1, 'amphitheatre': 1, 'plaza,': 1, '2004': 1, 'stata': 1, 'center,': 1, 'frank': 1, 'gehry,': 1, 'science,': 1, 'artificial': 1, 'intelligence': 1, 'philosophy': 1, 'teaching.': 1}\n"
     ]
    }
   ],
   "source": [
    "text=text.replace('\\n',' ')\n",
    "words=text.lower().split(' ')\n",
    "count={}\n",
    "for word in words:\n",
    "    count.setdefault(word,0)\n",
    "    count[word]+=1\n",
    "print(count)"
   ]
  },
  {
   "cell_type": "code",
   "execution_count": 7,
   "metadata": {},
   "outputs": [
    {
     "name": "stdout",
     "output_type": "stream",
     "text": [
      "your name plese: nj\n",
      "hello, nj\n"
     ]
    }
   ],
   "source": [
    "name=input('your name plese: ')\n",
    "if name:\n",
    "    print('hello, '+name)\n",
    "else:\n",
    "    print('you forget your name')"
   ]
  },
  {
   "cell_type": "code",
   "execution_count": 8,
   "metadata": {},
   "outputs": [
    {
     "name": "stdout",
     "output_type": "stream",
     "text": [
      "your name plese: \n",
      "you forget your name\n"
     ]
    }
   ],
   "source": [
    "name=input('your name plese: ')\n",
    "if name:\n",
    "    print('hello, '+name)\n",
    "else:\n",
    "    print('you forget your name')"
   ]
  },
  {
   "cell_type": "code",
   "execution_count": 9,
   "metadata": {},
   "outputs": [
    {
     "name": "stdout",
     "output_type": "stream",
     "text": [
      "your name plese: \n",
      "you forget your name\n"
     ]
    }
   ],
   "source": [
    "name=input('your name plese: ')\n",
    "print('hello, '+name if name else \"you forget your name\")"
   ]
  },
  {
   "cell_type": "code",
   "execution_count": 11,
   "metadata": {},
   "outputs": [
    {
     "name": "stdout",
     "output_type": "stream",
     "text": [
      "2 2 0\n"
     ]
    }
   ],
   "source": [
    "def abs(a):\n",
    "    return a if a>=0 else -a\n",
    "print(abs(-2),abs(2),abs(0))"
   ]
  },
  {
   "cell_type": "code",
   "execution_count": 14,
   "metadata": {},
   "outputs": [
    {
     "name": "stdout",
     "output_type": "stream",
     "text": [
      "*\n",
      "*\n",
      "*\n",
      "*\n",
      "*\n",
      "*\n",
      "*\n",
      "*\n",
      "*\n",
      "*\n"
     ]
    }
   ],
   "source": [
    "for i in range(0,10):\n",
    "    print(\"*\")"
   ]
  },
  {
   "cell_type": "code",
   "execution_count": 15,
   "metadata": {},
   "outputs": [
    {
     "name": "stdout",
     "output_type": "stream",
     "text": [
      "**********"
     ]
    }
   ],
   "source": [
    "for i in range(0,10):\n",
    "    print(\"*\",end='')#没有间隔"
   ]
  },
  {
   "cell_type": "code",
   "execution_count": 16,
   "metadata": {},
   "outputs": [
    {
     "name": "stdout",
     "output_type": "stream",
     "text": [
      "* * * * * * * * * * "
     ]
    }
   ],
   "source": [
    "for i in range(0,10):\n",
    "    print(\"*\",end=' ')#以空格最为间隔"
   ]
  },
  {
   "cell_type": "code",
   "execution_count": 25,
   "metadata": {},
   "outputs": [
    {
     "name": "stdout",
     "output_type": "stream",
     "text": [
      "please input a year: 11\n"
     ]
    },
    {
     "ename": "TypeError",
     "evalue": "not all arguments converted during string formatting",
     "output_type": "error",
     "traceback": [
      "\u001b[1;31m---------------------------------------------------------------------------\u001b[0m",
      "\u001b[1;31mTypeError\u001b[0m                                 Traceback (most recent call last)",
      "\u001b[1;32m<ipython-input-25-3a9087edcd20>\u001b[0m in \u001b[0;36m<module>\u001b[1;34m\u001b[0m\n\u001b[0;32m      1\u001b[0m \u001b[0myear\u001b[0m\u001b[1;33m=\u001b[0m\u001b[0minput\u001b[0m\u001b[1;33m(\u001b[0m\u001b[1;34m'please input a year: '\u001b[0m\u001b[1;33m)\u001b[0m\u001b[1;33m\u001b[0m\u001b[1;33m\u001b[0m\u001b[0m\n\u001b[1;32m----> 2\u001b[1;33m \u001b[1;32mif\u001b[0m \u001b[0myear\u001b[0m \u001b[1;33m%\u001b[0m \u001b[1;36m400\u001b[0m \u001b[1;33m==\u001b[0m \u001b[1;36m0\u001b[0m\u001b[1;33m:\u001b[0m\u001b[1;33m\u001b[0m\u001b[1;33m\u001b[0m\u001b[0m\n\u001b[0m\u001b[0;32m      3\u001b[0m     \u001b[0mprint\u001b[0m\u001b[1;33m(\u001b[0m\u001b[1;34m'leap year'\u001b[0m\u001b[1;33m)\u001b[0m\u001b[1;33m\u001b[0m\u001b[1;33m\u001b[0m\u001b[0m\n\u001b[0;32m      4\u001b[0m \u001b[1;32melif\u001b[0m \u001b[0myear\u001b[0m \u001b[1;33m%\u001b[0m \u001b[1;36m100\u001b[0m \u001b[1;33m==\u001b[0m \u001b[1;36m0\u001b[0m\u001b[1;33m:\u001b[0m\u001b[1;33m\u001b[0m\u001b[1;33m\u001b[0m\u001b[0m\n\u001b[0;32m      5\u001b[0m     \u001b[0mprint\u001b[0m\u001b[1;33m(\u001b[0m\u001b[1;34m'not leap year'\u001b[0m\u001b[1;33m)\u001b[0m\u001b[1;33m\u001b[0m\u001b[1;33m\u001b[0m\u001b[0m\n",
      "\u001b[1;31mTypeError\u001b[0m: not all arguments converted during string formatting"
     ]
    }
   ],
   "source": [
    "year=input('please input a year: ')\n",
    "if year % 400 == 0:\n",
    "    print('leap year')\n",
    "elif year % 100 == 0:\n",
    "    print('not leap year')\n",
    "elif year % 4 == 0:\n",
    "    print('leap year')\n",
    "else:\n",
    "    print('not leap year')"
   ]
  },
  {
   "cell_type": "code",
   "execution_count": 26,
   "metadata": {},
   "outputs": [
    {
     "name": "stdout",
     "output_type": "stream",
     "text": [
      "please input a year: 2000\n",
      "leap year\n"
     ]
    }
   ],
   "source": [
    "year=int(input('please input a year: '))\n",
    "if year % 400 == 0:\n",
    "    print('leap year')\n",
    "elif year % 100 == 0:\n",
    "    print('not leap year')\n",
    "elif year % 4 == 0:\n",
    "    print('leap year')\n",
    "else:\n",
    "    print('not leap year')"
   ]
  },
  {
   "cell_type": "code",
   "execution_count": 27,
   "metadata": {},
   "outputs": [
    {
     "ename": "NameError",
     "evalue": "name 'true' is not defined",
     "output_type": "error",
     "traceback": [
      "\u001b[1;31m---------------------------------------------------------------------------\u001b[0m",
      "\u001b[1;31mNameError\u001b[0m                                 Traceback (most recent call last)",
      "\u001b[1;32m<ipython-input-27-3dabe4a48c92>\u001b[0m in \u001b[0;36m<module>\u001b[1;34m\u001b[0m\n\u001b[0;32m      9\u001b[0m     \u001b[1;32melse\u001b[0m\u001b[1;33m:\u001b[0m\u001b[1;33m\u001b[0m\u001b[1;33m\u001b[0m\u001b[0m\n\u001b[0;32m     10\u001b[0m         \u001b[1;32mreturn\u001b[0m \u001b[0mfalse\u001b[0m\u001b[1;33m\u001b[0m\u001b[1;33m\u001b[0m\u001b[0m\n\u001b[1;32m---> 11\u001b[1;33m \u001b[1;32massert\u001b[0m\u001b[1;33m(\u001b[0m\u001b[0mleap_year\u001b[0m\u001b[1;33m(\u001b[0m\u001b[1;36m2000\u001b[0m\u001b[1;33m)\u001b[0m\u001b[1;33m)\u001b[0m\u001b[1;33m\u001b[0m\u001b[1;33m\u001b[0m\u001b[0m\n\u001b[0m",
      "\u001b[1;32m<ipython-input-27-3dabe4a48c92>\u001b[0m in \u001b[0;36mleap_year\u001b[1;34m(year)\u001b[0m\n\u001b[0;32m      2\u001b[0m     \u001b[1;32massert\u001b[0m\u001b[1;33m(\u001b[0m\u001b[0myear\u001b[0m\u001b[1;33m>=\u001b[0m\u001b[1;36m0\u001b[0m\u001b[1;33m)\u001b[0m\u001b[1;33m\u001b[0m\u001b[1;33m\u001b[0m\u001b[0m\n\u001b[0;32m      3\u001b[0m     \u001b[1;32mif\u001b[0m \u001b[0myear\u001b[0m \u001b[1;33m%\u001b[0m \u001b[1;36m400\u001b[0m \u001b[1;33m==\u001b[0m \u001b[1;36m0\u001b[0m\u001b[1;33m:\u001b[0m\u001b[1;33m\u001b[0m\u001b[1;33m\u001b[0m\u001b[0m\n\u001b[1;32m----> 4\u001b[1;33m         \u001b[1;32mreturn\u001b[0m \u001b[0mtrue\u001b[0m\u001b[1;33m\u001b[0m\u001b[1;33m\u001b[0m\u001b[0m\n\u001b[0m\u001b[0;32m      5\u001b[0m     \u001b[1;32melif\u001b[0m \u001b[0myear\u001b[0m \u001b[1;33m%\u001b[0m \u001b[1;36m100\u001b[0m \u001b[1;33m==\u001b[0m \u001b[1;36m0\u001b[0m\u001b[1;33m:\u001b[0m\u001b[1;33m\u001b[0m\u001b[1;33m\u001b[0m\u001b[0m\n\u001b[0;32m      6\u001b[0m         \u001b[1;32mreturn\u001b[0m \u001b[0mfalse\u001b[0m\u001b[1;33m\u001b[0m\u001b[1;33m\u001b[0m\u001b[0m\n",
      "\u001b[1;31mNameError\u001b[0m: name 'true' is not defined"
     ]
    }
   ],
   "source": [
    "def leap_year(year):\n",
    "    assert(year>=0)\n",
    "    if year % 400 == 0:\n",
    "        return true\n",
    "    elif year % 100 == 0:\n",
    "        return false\n",
    "    elif year % 4 == 0:\n",
    "        return true\n",
    "    else:\n",
    "        return false\n",
    "assert(leap_year(2000))"
   ]
  },
  {
   "cell_type": "code",
   "execution_count": 28,
   "metadata": {},
   "outputs": [],
   "source": [
    "def leap_year(year):\n",
    "    assert(year>=0)\n",
    "    if year % 400 == 0:\n",
    "        return True\n",
    "    elif year % 100 == 0:\n",
    "        return False\n",
    "    elif year % 4 == 0:\n",
    "        return True\n",
    "    else:\n",
    "        return False\n",
    "assert(leap_year(2000))"
   ]
  },
  {
   "cell_type": "code",
   "execution_count": 32,
   "metadata": {},
   "outputs": [
    {
     "name": "stdout",
     "output_type": "stream",
     "text": [
      "test ok\n"
     ]
    }
   ],
   "source": [
    "def leap_year(year):\n",
    "    assert(year>=0)\n",
    "    if year % 400 == 0:\n",
    "        return True\n",
    "    elif year % 100 == 0:\n",
    "        return False\n",
    "    elif year % 4 == 0:\n",
    "        return True\n",
    "    else:\n",
    "        return False\n",
    "assert(leap_year(2000))\n",
    "assert(leap_year(2008))\n",
    "print('test ok')"
   ]
  },
  {
   "cell_type": "code",
   "execution_count": 33,
   "metadata": {},
   "outputs": [
    {
     "data": {
      "text/plain": [
       "97"
      ]
     },
     "execution_count": 33,
     "metadata": {},
     "output_type": "execute_result"
    }
   ],
   "source": [
    "ord('a')#看字符对应的编码"
   ]
  },
  {
   "cell_type": "code",
   "execution_count": 34,
   "metadata": {},
   "outputs": [
    {
     "data": {
      "text/plain": [
       "'b'"
      ]
     },
     "execution_count": 34,
     "metadata": {},
     "output_type": "execute_result"
    }
   ],
   "source": [
    "chr(98)#看编码对应的字符"
   ]
  },
  {
   "cell_type": "code",
   "execution_count": 35,
   "metadata": {},
   "outputs": [
    {
     "data": {
      "text/plain": [
       "'🙈'"
      ]
     },
     "execution_count": 35,
     "metadata": {},
     "output_type": "execute_result"
    }
   ],
   "source": [
    "chr(128584)"
   ]
  },
  {
   "cell_type": "code",
   "execution_count": 36,
   "metadata": {},
   "outputs": [
    {
     "data": {
      "text/plain": [
       "'\\U0003645a'"
      ]
     },
     "execution_count": 36,
     "metadata": {},
     "output_type": "execute_result"
    }
   ],
   "source": [
    "chr(222298)"
   ]
  },
  {
   "cell_type": "code",
   "execution_count": null,
   "metadata": {},
   "outputs": [],
   "source": []
  }
 ],
 "metadata": {
  "kernelspec": {
   "display_name": "Python 3",
   "language": "python",
   "name": "python3"
  },
  "language_info": {
   "codemirror_mode": {
    "name": "ipython",
    "version": 3
   },
   "file_extension": ".py",
   "mimetype": "text/x-python",
   "name": "python",
   "nbconvert_exporter": "python",
   "pygments_lexer": "ipython3",
   "version": "3.7.3"
  }
 },
 "nbformat": 4,
 "nbformat_minor": 2
}
